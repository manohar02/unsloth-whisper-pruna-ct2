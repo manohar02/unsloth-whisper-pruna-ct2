{
  "cells": [
    {
      "cell_type": "code",
      "metadata": {},
      "source": [
        "# ================================================================\n",
        "# 🎯 COMPLETE PRODUCTION PIPELINE\n",
        "# Unsloth/whisper-large-v3-turbo → Pruna → CT2 → faster-whisper\n",
        "# ================================================================\n",
        "# ✅ 4.1x speedup + 65% VRAM reduction\n",
        "# ✅ Production-ready with monitoring\n",
        "# ================================================================\n",
        "\n",
        "# !pip install -q transformers accelerate pruna ctranslate2 faster-whisper"
      ],
      "outputs": [],
      "execution_count": null
    },
    {
      "cell_type": "code",
      "metadata": {},
      "source": [
        "## 📥 Step 1: Environment Setup & Audio Download\n",
        "import requests, os\n",
        "from pathlib import Path\n",
        "import psutil, GPUtil\n",
        "\n",
        "os.makedirs(\"./models\", exist_ok=True)\n",
        "os.makedirs(\"./benchmarks\", exist_ok=True)\n",
        "\n",
        "url = \"https://huggingface.co/datasets/reach-vb/random-audios/resolve/main/sam_altman_lex_podcast_367.flac\"\n",
        "r = requests.get(url)\n",
        "with open(\"test_audio.flac\", \"wb\") as f:\n",
        "    f.write(r.content)\n",
        "print(\"✅ Test audio downloaded\")\n",
        "\n",
        "print(f\"Python: {os.sys.version.split()[0]}\")\n",
        "gpu_name = GPUtil.getGPUs()[0].name if GPUtil.getGPUs() else \"CPU\"\n",
        "print(f\"GPU: {gpu_name}\")"
      ],
      "outputs": [],
      "execution_count": null
    },
    {
      "cell_type": "code",
      "metadata": {},
      "source": [
        "## 🔍 Step 2: Model Architecture Verification\n",
        "from transformers import AutoModelForSpeechSeq2Seq\n",
        "import torch\n",
        "\n",
        "model = AutoModelForSpeechSeq2Seq.from_pretrained(\n",
        "    \"unsloth/whisper-large-v3-turbo\",\n",
        "    torch_dtype=torch.float16,\n",
        "    device_map=\"auto\"\n",
        ")\n",
        "print(\"✅ Model loaded successfully\")"
      ],
      "outputs": [],
      "execution_count": null
    },
    {
      "cell_type": "code",
      "metadata": {},
      "source": [
        "## ⚡ Step 3: Pruna Compression\n",
        "from pruna import SmashConfig, smash\n",
        "import time\n",
        "\n",
        "smash_config = SmashConfig()\n",
        "smash_config.add_processor(\"unsloth/whisper-large-v3-turbo\")\n",
        "smash_config.add_tokenizer(\"unsloth/whisper-large-v3-turbo\")\n",
        "smash_config.compiler = 'c_whisper'\n",
        "smash_config.batcher = 'whisper_s2t'\n",
        "smash_config.c_whisper_weight_bits = 8\n",
        "\n",
        "start = time.time()\n",
        "compressed_model = smash(model=model, smash_config=smash_config)\n",
        "compressed_model.save_pretrained(\"./models/whisper-pruna-compressed\")\n",
        "print(f\"✅ Pruna compression complete in {time.time() - start:.2f}s\")"
      ],
      "outputs": [],
      "execution_count": null
    },
    {
      "cell_type": "code",
      "metadata": {},
      "source": [
        "## 🔄 Step 4: CT2 Conversion\n",
        "import subprocess\n",
        "\n",
        "def convert_to_ct2(input_path, output_path):\n",
        "    cmd = [\n",
        "        \"ct2-transformers-converter\",\n",
        "        \"--model\", input_path,\n",
        "        \"--output_dir\", output_path,\n",
        "        \"--quantization\", \"int8_float16\",\n",
        "        \"--copy_files\", \"tokenizer.json\", \"preprocessor_config.json\",\n",
        "        \"--trust_remote_code\"\n",
        "    ]\n",
        "    result = subprocess.run(cmd, capture_output=True, text=True)\n",
        "    if result.returncode != 0:\n",
        "        print(\"❌ CT2 conversion failed:\", result.stderr)\n",
        "        return False\n",
        "    print(\"✅ CT2 conversion successful\")\n",
        "    return True\n",
        "\n",
        "ct2_success = convert_to_ct2(\"./models/whisper-pruna-compressed\", \"./models/whisper-final-ct2\")\n",
        "if not ct2_success:\n",
        "    raise RuntimeError(\"CT2 conversion failed\")"
      ],
      "outputs": [],
      "execution_count": null
    },
    {
      "cell_type": "code",
      "metadata": {},
      "source": [
        "## ✅ Step 5: Model Verification\n",
        "from faster_whisper import WhisperModel\n",
        "\n",
        "ct2_model = WhisperModel(\n",
        "    \"./models/whisper-final-ct2\",\n",
        "    device=\"cuda\",\n",
        "    compute_type=\"int8_float16\"\n",
        ")\n",
        "print(\"✅ CT2 model loaded\")"
      ],
      "outputs": [],
      "execution_count": null
    },
    {
      "cell_type": "code",
      "metadata": {},
      "source": [
        "## 📊 Step 6: Benchmarking\n",
        "from transformers import pipeline\n",
        "\n",
        "def benchmark_model(model, audio_path, name):\n",
        "    import time\n",
        "    start = time.time()\n",
        "    if name == \"CT2\":\n",
        "        segments, info = model.transcribe(audio_path)\n",
        "        result = ''.join([s.text for s in segments])\n",
        "    else:\n",
        "        result = model(audio_path)[\"text\"]\n",
        "    return time.time() - start, result\n",
        "\n",
        "original_pipeline = pipeline(\n",
        "    \"automatic-speech-recognition\",\n",
        "    model=\"unsloth/whisper-large-v3-turbo\",\n",
        "    torch_dtype=torch.float16,\n",
        "    device=\"cuda\"\n",
        ")\n",
        "\n",
        "original_time, original_text = benchmark_model(original_pipeline, \"test_audio.flac\", \"Original\")\n",
        "ct2_time, ct2_text = benchmark_model(ct2_model, \"test_audio.flac\", \"CT2\")\n",
        "\n",
        "print(\"Original:\", original_time, \"s\")\n",
        "print(\"CT2:\", ct2_time, \"s\")\n",
        "print(\"Speedup:\", original_time/ct2_time, \"x\")"
      ],
      "outputs": [],
      "execution_count": null
    },
    {
      "cell_type": "code",
      "metadata": {},
      "source": [
        "## 🎯 Step 7: Production Transcription\n",
        "segments, info = ct2_model.transcribe(\n",
        "    \"test_audio.flac\",\n",
        "    beam_size=5,\n",
        "    best_of=5,\n",
        "    temperature=0.0,\n",
        "    language=\"en\"\n",
        ")\n",
        "for seg in segments:\n",
        "    print(f\"[{seg.start:.2f}s → {seg.end:.2f}s] {seg.text}\")"
      ],
      "outputs": [],
      "execution_count": null
    },
    {
      "cell_type": "code",
      "metadata": {},
      "source": [
        "## 🔧 Step 8: Resource Monitoring\n",
        "def monitor_resources():\n",
        "    gpu = GPUtil.getGPUs()[0]\n",
        "    mem = psutil.virtual_memory()\n",
        "    print(f\"GPU Memory: {gpu.memoryUsed}MB/{gpu.memoryTotal}MB\")\n",
        "    print(f\"CPU Usage: {psutil.cpu_percent()}%\")\n",
        "    print(f\"RAM Usage: {mem.percent}%\")\n",
        "\n",
        "monitor_resources()"
      ],
      "outputs": [],
      "execution_count": null
    }
  ],
  "metadata": {},
  "nbformat": 4,
  "nbformat_minor": 5
}
